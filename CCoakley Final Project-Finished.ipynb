{
 "cells": [
  {
   "cell_type": "markdown",
   "id": "46195d50-f656-4c4f-ba28-47e7d6badf98",
   "metadata": {},
   "source": [
    "# CSPB 3287 Final Project - Restaurant Ingredient, Menu, and Order Management Database\n",
    "\n",
    "Name: Collin Coakley\n",
    "\n",
    "Identikey: coakleyc\n",
    "\n",
    "Email: coakleyc@colorado.edu\n",
    "<hr>"
   ]
  },
  {
   "cell_type": "markdown",
   "id": "55417fed-d256-4007-b208-56f4be664ec0",
   "metadata": {},
   "source": [
    "## Introduction\n",
    "\n",
    "My project was originally conceived to handle all aspects of restaurant management, from food supplies to seating arrangements. I wanted to do this project because I wanted to create a comprehensive database that would be accessible to restaurateurs to track metrics for revenue, profit, supplies, and to track trends in their restaurant, such as peak hours and popular menu items. I planned (and still do, although to a lesser extent) to use this on my GitHub to show that I have sufficient understanding of database management and implementation to work in the professional world.\n",
    "\n",
    "However, I was given feedback from my peer reviews and Professor Knox that I should implemented only a subset of the concepts mentioned above to fit the scope of this project. As such, this project is to simulate the relationships between available ingredients at a restaurant, menu items, and orders processed by the restaurant to show that I can sufficiently relate and query these tables to gather meaningful, actionable information. "
   ]
  },
  {
   "cell_type": "code",
   "execution_count": 1,
   "id": "4184bb78-9bb7-4a1c-a010-7baa3c7a525e",
   "metadata": {},
   "outputs": [],
   "source": [
    "# import relevant modules for this project\n",
    "import random\n",
    "import mysql.connector"
   ]
  },
  {
   "cell_type": "markdown",
   "id": "21655f4f-721f-46aa-8ab2-aa7199190fb4",
   "metadata": {},
   "source": [
    "### Connecting to DB"
   ]
  },
  {
   "cell_type": "code",
   "execution_count": 2,
   "id": "4d4ca251-0cdd-423f-8a70-cfaf44eb07bc",
   "metadata": {},
   "outputs": [],
   "source": [
    "database_name = 'CSPB3287Project'\n",
    "\n",
    "\n",
    "password = "
   ]
  },
  {
   "cell_type": "markdown",
   "id": "3d2aab45-2748-4598-a72b-b4d19d2d9ee3",
   "metadata": {},
   "source": [
    "### Create Tables"
   ]
  },
  {
   "cell_type": "markdown",
   "id": "5972ca99-fbf8-4e5d-ad36-332bd8bf47c6",
   "metadata": {},
   "source": [
    "## 10 pts: Was a video included in the project submission?\n",
    "\n",
    "- See Video in Github"
   ]
  },
  {
   "cell_type": "markdown",
   "id": "eae65c97-30dd-4eb1-82a3-e3ad7e89e1a8",
   "metadata": {},
   "source": [
    "## 5 pts: Does the project contain at least 3 tables?"
   ]
  },
  {
   "cell_type": "markdown",
   "id": "e1fb1717-0eed-472a-b9c2-fcb11c50429c",
   "metadata": {},
   "source": [
    "There are 3 tables for this project:\n",
    "\n",
    "- <b>Ingredient</b>: This tracks the available stock of ingredients currently in the restaurant, as well as the price. For purposes of this project, the restaurant will have an initial amount of each ingredient, and we can simulate utilization and replenishment of said ingredient. In order to simulate large data, there will be 50 ingredients, and each ingredient will have an inventory of 0 to approximately 1,000 (not restricted, just for purposes of this project) of each ingredient so we can generate many orders in the Orders table.\n",
    "\n",
    "- <b>Menu</b>: This will be a table that contains a Menu Item Name, 5 Ingredients for that item (duplicates are ok), and an optional 6th ingredient, for which we will charge 1.25 times the normal price for the customization. This will allow us to show some aggregation and use of math functions.\n",
    "\n",
    "- <b>OrderProcessed</b>: This will contain numbered orders the restaurant has accepted.\n",
    "\n",
    "For purposes of this project, I styled this restaurant to be an Asian-Mexican fusion restaurant, so the ingredients reflect that:\n",
    "\n",
    "### Import Relevant Python Modules:"
   ]
  },
  {
   "cell_type": "code",
   "execution_count": 3,
   "id": "62d505df-f05f-4b34-ac0f-27ad93379b23",
   "metadata": {},
   "outputs": [
    {
     "name": "stdout",
     "output_type": "stream",
     "text": [
      "Database deleted.\n"
     ]
    }
   ],
   "source": [
    "try:\n",
    "    mydb = mysql.connector.connect(host=\"localhost\", user=\"root\", passwd=password, use_pure=True)\n",
    "\n",
    "    cursor = mydb.cursor()\n",
    "\n",
    "    cursor.execute(f\"DROP DATABASE IF EXISTS {database_name}\")\n",
    "\n",
    "    print(\"Database deleted.\")\n",
    "\n",
    "except mysql.connector.Error as e:\n",
    "    print(f\"Error: {e}\")\n",
    "\n",
    "finally:\n",
    "    if mydb.is_connected():\n",
    "        mydb.close()"
   ]
  },
  {
   "cell_type": "code",
   "execution_count": 4,
   "id": "7dd2a180-55d6-4ffd-abb9-baf639d2a940",
   "metadata": {},
   "outputs": [],
   "source": [
    "try:\n",
    "\n",
    "    mydb = mysql.connector.connect(host=\"localhost\", user=\"root\", passwd=password, use_pure=True)\n",
    "    cursor = mydb.cursor()\n",
    "    cursor.execute(\"SHOW DATABASES\")\n",
    "    if database_name.lower() not in [db[0].lower() for db in cursor.fetchall()]:\n",
    "        cursor.execute(f\"CREATE DATABASE {database_name}\")\n",
    "\n",
    "    cursor.execute(f\"USE {database_name}\")\n",
    "\n",
    "    cursor.execute('''\n",
    "        CREATE TABLE IF NOT EXISTS Ingredient (\n",
    "    Name VARCHAR(45) PRIMARY KEY,\n",
    "    Price INT NOT NULL,\n",
    "    Quantity INT\n",
    "        )''')\n",
    "\n",
    "    cursor.execute('''\n",
    "        CREATE TABLE IF NOT EXISTS Menu (\n",
    "    Name VARCHAR(45) PRIMARY KEY,\n",
    "    Ingredient1 VARCHAR(45),\n",
    "    Ingredient2 VARCHAR(45),\n",
    "    Ingredient3 VARCHAR(45),\n",
    "    Ingredient4 VARCHAR(45),\n",
    "    Ingredient5 VARCHAR(45),\n",
    "    FOREIGN KEY (Ingredient1) REFERENCES Ingredient(Name) ON DELETE CASCADE,\n",
    "    FOREIGN KEY (Ingredient2) REFERENCES Ingredient(Name) ON DELETE CASCADE,\n",
    "    FOREIGN KEY (Ingredient3) REFERENCES Ingredient(Name) ON DELETE CASCADE,\n",
    "    FOREIGN KEY (Ingredient4) REFERENCES Ingredient(Name) ON DELETE CASCADE,\n",
    "    FOREIGN KEY (Ingredient5) REFERENCES Ingredient(Name) ON DELETE CASCADE\n",
    "        )''')    \n",
    "\n",
    "    cursor.execute('''\n",
    "        CREATE TABLE IF NOT EXISTS Orders (\n",
    "    MenuItem VARCHAR(45),\n",
    "    AdditionalIngredient VARCHAR(45),\n",
    "    FOREIGN KEY (MenuItem) REFERENCES Menu(Name) ON DELETE CASCADE,\n",
    "    FOREIGN KEY (AdditionalIngredient) REFERENCES Ingredient(Name)  ON DELETE CASCADE  \n",
    "        )''')    \n",
    "    \n",
    "    mydb.commit()\n",
    "    mydb.close()\n",
    "\n",
    "except mysql.connector.Error as e:\n",
    "    print(f\"Error: {e}\")\n",
    "\n",
    "finally:\n",
    "    if mydb.is_connected():\n",
    "        cursor.close()\n",
    "        mydb.close()"
   ]
  },
  {
   "cell_type": "markdown",
   "id": "13ed21f4-4072-4390-ba4d-5365a905717f",
   "metadata": {},
   "source": [
    "## 5 pts: Did the writeup/video show SQL statements (and any accompanying code) for all table creation?"
   ]
  },
  {
   "cell_type": "code",
   "execution_count": 5,
   "id": "790ad663-4d48-476e-b68a-9abfd71ec5c9",
   "metadata": {},
   "outputs": [
    {
     "name": "stdout",
     "output_type": "stream",
     "text": [
      "ingredient\n",
      "menu\n",
      "orders\n"
     ]
    }
   ],
   "source": [
    "try:\n",
    "    mydb = mysql.connector.connect(host=\"localhost\", user=\"root\", passwd=password, use_pure=True)\n",
    "    cursor = mydb.cursor()\n",
    "    cursor.execute(f\"USE {database_name}\")\n",
    "\n",
    "    cursor.execute(\"SHOW TABLES\")\n",
    "    for table in cursor.fetchall():\n",
    "        print(table[0])\n",
    "\n",
    "except mysql.connector.Error as e:\n",
    "    print(f\"Error: {e}\")\n",
    "\n",
    "finally:\n",
    "    if mydb.is_connected():\n",
    "        cursor.close()\n",
    "        mydb.close()"
   ]
  },
  {
   "cell_type": "markdown",
   "id": "16d5b2eb-717a-407d-b4c2-1cd509d85dba",
   "metadata": {},
   "source": [
    "## 5 pts: Are there relationships between table items (foreign keys)?\n",
    "\n",
    "Yes, there are foreign keys from Ingredients to Menu and Order. There is also a foreign key from the Menu to Orders. Those are part of the original table create statements."
   ]
  },
  {
   "cell_type": "markdown",
   "id": "97943471-d736-45fe-8fa5-37a0e4cc07c9",
   "metadata": {},
   "source": [
    "## 5 pts: Did the writeup/video show SQL statements for the insertion of data?\n",
    "\n",
    "Table insertion below:"
   ]
  },
  {
   "cell_type": "markdown",
   "id": "a2abbf45-dd24-4847-bf8a-6e9e5caaa618",
   "metadata": {},
   "source": [
    "### Ingredients Table Inserts/Prints"
   ]
  },
  {
   "cell_type": "code",
   "execution_count": 6,
   "id": "da041328-945a-43c6-81c5-abf78ccf2922",
   "metadata": {},
   "outputs": [
    {
     "name": "stdout",
     "output_type": "stream",
     "text": [
      "{'Tortillas': (7, 722), 'Rice': (14, 956), 'Beans': (16, 37), 'Chicken': (7, 248), 'Beef': (14, 116), 'Shrimp': (6, 295), 'Tofu': (10, 963), 'Avocado': (7, 519), 'Salsa': (7, 120), 'Sour Cream': (10, 676), 'Cilantro': (3, 70), 'Lettuce': (16, 39), 'Tomatoes': (17, 769), 'Onions': (10, 758), 'Bell Peppers': (8, 218), 'Jalapenos': (7, 247), 'Soy Sauce': (9, 250), 'Ginger': (4, 666), 'Garlic': (8, 721), 'Sesame Oil': (5, 95), 'Noodles': (8, 91), 'Eggplant': (3, 960), 'Bok Choy': (4, 674), 'Mushrooms': (15, 80), 'Cabbage': (15, 296), 'Thai Basil': (15, 57), 'Fish Sauce': (11, 513), 'Coconut Milk': (17, 814), 'Peanut Butter': (5, 615), 'Lime': (16, 149), 'Cumin': (5, 865), 'Coriander': (5, 899), 'Chili Powder': (9, 950), 'Cayenne Pepper': (5, 810), 'Sriracha': (4, 405), 'Wasabi': (17, 272), 'Ramen': (12, 733), 'Sesame Seeds': (10, 946), 'Pineapple': (14, 434), 'Mango': (9, 313), 'Lemongrass': (7, 839), 'Tamarind': (7, 674), 'Chilies': (10, 211), 'Sambal Oelek': (8, 800), 'Kimchi': (4, 850), 'Scallions': (11, 262), 'Szechuan Peppercorns': (11, 203), 'Hoisin Sauce': (6, 667), 'Soybean Paste': (15, 494)}\n"
     ]
    }
   ],
   "source": [
    "# Randomizing ingredient price\n",
    "import random\n",
    "\n",
    "ingredients = [\n",
    "    \"Tortillas\",\n",
    "    \"Rice\",\n",
    "    \"Beans\",\n",
    "    \"Chicken\",\n",
    "    \"Beef\",\n",
    "    \"Shrimp\",\n",
    "    \"Tofu\",\n",
    "    \"Avocado\",\n",
    "    \"Salsa\",\n",
    "    \"Sour Cream\",\n",
    "    \"Cilantro\",\n",
    "    \"Lettuce\",\n",
    "    \"Tomatoes\",\n",
    "    \"Onions\",\n",
    "    \"Bell Peppers\",\n",
    "    \"Jalapenos\",\n",
    "    \"Soy Sauce\",\n",
    "    \"Ginger\",\n",
    "    \"Garlic\",\n",
    "    \"Sesame Oil\",\n",
    "    \"Noodles\",\n",
    "    \"Eggplant\",\n",
    "    \"Bok Choy\",\n",
    "    \"Mushrooms\",\n",
    "    \"Cabbage\",\n",
    "    \"Thai Basil\",\n",
    "    \"Fish Sauce\",\n",
    "    \"Coconut Milk\",\n",
    "    \"Peanut Butter\",\n",
    "    \"Lime\",\n",
    "    \"Cumin\",\n",
    "    \"Coriander\",\n",
    "    \"Chili Powder\",\n",
    "    \"Cayenne Pepper\",\n",
    "    \"Sriracha\",\n",
    "    \"Wasabi\",\n",
    "    \"Ramen\",\n",
    "    \"Sesame Seeds\",\n",
    "    \"Pineapple\",\n",
    "    \"Mango\",\n",
    "    \"Cilantro\",\n",
    "    \"Lemongrass\",\n",
    "    \"Tamarind\",\n",
    "    \"Chilies\",\n",
    "    \"Sambal Oelek\",\n",
    "    \"Kimchi\",\n",
    "    \"Scallions\",\n",
    "    \"Szechuan Peppercorns\",\n",
    "    \"Hoisin Sauce\",\n",
    "    \"Soybean Paste\"\n",
    "]\n",
    "\n",
    "ingredient_dict = {ingredient: (random.randint(3, 17), random.randint(10, 1000)) for ingredient in ingredients}\n",
    "\n",
    "print(ingredient_dict)"
   ]
  },
  {
   "cell_type": "code",
   "execution_count": 7,
   "id": "e2aeb76e-2764-4806-ad08-511de9667ebd",
   "metadata": {},
   "outputs": [],
   "source": [
    "try:\n",
    "    mydb = mysql.connector.connect(host=\"localhost\", user=\"root\", passwd=password, use_pure=True)\n",
    "    cursor = mydb.cursor()\n",
    "\n",
    "    cursor.execute(f\"USE {database_name}\")    \n",
    "\n",
    "    insertion_query = '''\n",
    "        INSERT INTO Ingredient (Name, Price, Quantity) VALUES (%s, %s, %s)\n",
    "    '''\n",
    "\n",
    "    for key, value in ingredient_dict.items():\n",
    "        name = key\n",
    "        price = value[0]\n",
    "        quantity = value[1]\n",
    "        cursor.execute(insertion_query, (name, price, quantity))\n",
    "\n",
    "    mydb.commit()\n",
    "\n",
    "except mysql.connector.Error as e:\n",
    "    print(f\"Error: {e}\")\n",
    "\n",
    "finally:\n",
    "    if mydb.is_connected():\n",
    "        cursor.close()\n",
    "        mydb.close()\n",
    "\n"
   ]
  },
  {
   "cell_type": "code",
   "execution_count": 8,
   "id": "f4b4b706-e872-4266-be22-8df529cdc787",
   "metadata": {},
   "outputs": [
    {
     "name": "stdout",
     "output_type": "stream",
     "text": [
      "('Avocado', 7, 519)\n",
      "('Beans', 16, 37)\n",
      "('Beef', 14, 116)\n",
      "('Bell Peppers', 8, 218)\n",
      "('Bok Choy', 4, 674)\n"
     ]
    }
   ],
   "source": [
    "try:\n",
    "    mydb = mysql.connector.connect(host=\"localhost\", user=\"root\", passwd=password, use_pure=True)\n",
    "    cursor = mydb.cursor()\n",
    "    cursor.execute(f\"USE {database_name}\")\n",
    "    \n",
    "    cursor.execute(\"SELECT * FROM Ingredient LIMIT 5\")\n",
    "    results = cursor.fetchall()\n",
    "    for row in results:\n",
    "        print(row)\n",
    "\n",
    "except mysql.connector.Error as e:\n",
    "    print(f\"Error: {e}\")\n",
    "\n",
    "finally:\n",
    "    if mydb.is_connected():\n",
    "        cursor.close()\n",
    "        mydb.close()\n"
   ]
  },
  {
   "cell_type": "markdown",
   "id": "f38cc096-683e-4911-807b-03f768b695b1",
   "metadata": {},
   "source": [
    "### Menu Table Inserts/Prints"
   ]
  },
  {
   "cell_type": "code",
   "execution_count": 9,
   "id": "0a677c7a-0120-4dcb-809b-320322f5e31f",
   "metadata": {},
   "outputs": [],
   "source": [
    "# Create random menu items\n",
    "import random\n",
    "\n",
    "tex_mex_foods = [\n",
    "    \"Tacos\", \"Burritos\", \"Enchiladas\", \"Quesadillas\", \"Guacamole\",\n",
    "    \"Nachos\", \"Fajitas\", \"Chimichangas\", \"Taquitos\", \"Salsa\",\n",
    "    \"Chili con Carne\", \"Refried Beans\", \"Tamales\", \"Chile Rellenos\",\n",
    "    \"Carnitas\", \"Barbacoa\", \"Menudo\", \"Pozole\", \"Chiles en Nogada\",\n",
    "    \"Flautas\", \"Sopes\", \"Gorditas\", \"Pico de Gallo\", \"Carne Asada\",\n",
    "    \"Ceviche\", \"Horchata\", \"Empanadas\", \"Churros\", \"Elote\", \"Chilaquiles\"\n",
    "]\n",
    "\n",
    "ingredients = [\n",
    "    \"Tortillas\", \"Rice\", \"Beans\", \"Chicken\", \"Beef\", \"Shrimp\", \"Tofu\",\n",
    "    \"Avocado\", \"Salsa\", \"Sour Cream\", \"Cilantro\", \"Lettuce\", \"Tomatoes\",\n",
    "    \"Onions\", \"Bell Peppers\", \"Jalapenos\", \"Soy Sauce\", \"Ginger\", \"Garlic\",\n",
    "    \"Sesame Oil\", \"Noodles\", \"Eggplant\", \"Bok Choy\", \"Mushrooms\", \"Cabbage\",\n",
    "    \"Thai Basil\", \"Fish Sauce\", \"Coconut Milk\", \"Peanut Butter\", \"Lime\",\n",
    "    \"Cumin\", \"Coriander\", \"Chili Powder\", \"Cayenne Pepper\", \"Sriracha\",\n",
    "    \"Wasabi\", \"Ramen\", \"Sesame Seeds\", \"Pineapple\", \"Mango\", \"Cilantro\",\n",
    "    \"Lemongrass\", \"Tamarind\", \"Chilies\", \"Sambal Oelek\", \"Kimchi\", \"Scallions\",\n",
    "    \"Szechuan Peppercorns\", \"Hoisin Sauce\", \"Soybean Paste\"\n",
    "    ]\n",
    "\n",
    "tex_mex_food_ingredients = {}\n",
    "\n",
    "\n",
    "for food in tex_mex_foods:\n",
    "    random_ingredients = random.sample(ingredients, 5)\n",
    "    tex_mex_food_ingredients[food] = random_ingredients\n",
    "\n"
   ]
  },
  {
   "cell_type": "code",
   "execution_count": 10,
   "id": "8b4ad8b4-4188-43b8-848c-2b22f16c3e59",
   "metadata": {},
   "outputs": [],
   "source": [
    "try:\n",
    "    mydb = mysql.connector.connect(host=\"localhost\", user=\"root\", passwd=password, use_pure=True)\n",
    "    cursor = mydb.cursor()\n",
    "\n",
    "    cursor.execute(f\"USE {database_name}\")    \n",
    "\n",
    "    insertion_query = '''\n",
    "        INSERT INTO Menu (Name, Ingredient1, Ingredient2, Ingredient3, Ingredient4, Ingredient5) VALUES (%s, %s, %s, %s, %s, %s)\n",
    "    '''\n",
    "\n",
    "    for key, value in tex_mex_food_ingredients.items():\n",
    "        name = key\n",
    "        ingredient1 = value[0]\n",
    "        ingredient2 = value[1]\n",
    "        ingredient3 = value[2]\n",
    "        ingredient4 = value[3]\n",
    "        ingredient5 = value[4]\n",
    "\n",
    "        cursor.execute(insertion_query, (name, ingredient1, ingredient2, ingredient3, ingredient4, ingredient5))\n",
    "\n",
    "    mydb.commit()\n",
    "\n",
    "except mysql.connector.Error as e:\n",
    "    print(f\"Error: {e}\")\n",
    "\n",
    "finally:\n",
    "    if mydb.is_connected():\n",
    "        cursor.close()\n",
    "        mydb.close()\n",
    "\n"
   ]
  },
  {
   "cell_type": "code",
   "execution_count": 11,
   "id": "3b50423f-1a73-4716-8fd1-1f4541f1afdf",
   "metadata": {},
   "outputs": [
    {
     "name": "stdout",
     "output_type": "stream",
     "text": [
      "('Barbacoa', 'Tofu', 'Lime', 'Ramen', 'Bell Peppers', 'Sesame Seeds')\n",
      "('Burritos', 'Szechuan Peppercorns', 'Rice', 'Salsa', 'Tortillas', 'Cabbage')\n",
      "('Carne Asada', 'Sambal Oelek', 'Chili Powder', 'Shrimp', 'Cayenne Pepper', 'Wasabi')\n",
      "('Carnitas', 'Sour Cream', 'Chilies', 'Bok Choy', 'Wasabi', 'Cabbage')\n",
      "('Ceviche', 'Chili Powder', 'Avocado', 'Cumin', 'Bell Peppers', 'Szechuan Peppercorns')\n"
     ]
    }
   ],
   "source": [
    "try:\n",
    "    mydb = mysql.connector.connect(host=\"localhost\", user=\"root\", passwd=password, use_pure=True)\n",
    "    cursor = mydb.cursor()\n",
    "    cursor.execute(f\"USE {database_name}\")\n",
    "    \n",
    "    cursor.execute(\"SELECT * FROM Menu LIMIT 5\")\n",
    "    results = cursor.fetchall()\n",
    "    for row in results:\n",
    "        print(row)\n",
    "\n",
    "except mysql.connector.Error as e:\n",
    "    print(f\"Error: {e}\")\n",
    "\n",
    "finally:\n",
    "    if mydb.is_connected():\n",
    "        cursor.close()\n",
    "        mydb.close()"
   ]
  },
  {
   "cell_type": "markdown",
   "id": "45faea91-3b04-496e-8eff-5d40afbd4eed",
   "metadata": {},
   "source": [
    "### Orders Table Insertion/Print"
   ]
  },
  {
   "cell_type": "code",
   "execution_count": 12,
   "id": "b7487ee3-dbe4-46ec-808c-ea536984107b",
   "metadata": {},
   "outputs": [],
   "source": [
    "import numpy as np\n",
    "random_menu_item = list(np.random.choice(tex_mex_foods, size=200, replace=True))\n",
    "random_ingredient = list(np.random.choice(ingredients, size=200, replace=True))"
   ]
  },
  {
   "cell_type": "code",
   "execution_count": 13,
   "id": "ab4892b1-01e0-4487-a28b-967110acc5f1",
   "metadata": {},
   "outputs": [],
   "source": [
    "try:\n",
    "    mydb = mysql.connector.connect(host=\"localhost\", user=\"root\", passwd=password, use_pure=True)\n",
    "    cursor = mydb.cursor()\n",
    "\n",
    "    cursor.execute(f\"USE {database_name}\")    \n",
    "\n",
    "    insertion_query = '''\n",
    "        INSERT INTO Orders (MenuItem, AdditionalIngredient) VALUES (%s, %s)\n",
    "    '''\n",
    "\n",
    "    for i in range(200):\n",
    "        menuitem = str(random_menu_item[i])\n",
    "        additional_ingredient = str(random_ingredient[i])\n",
    "        cursor.execute(insertion_query, (menuitem, additional_ingredient))\n",
    "\n",
    "    mydb.commit()\n",
    "\n",
    "except mysql.connector.Error as e:\n",
    "    print(f\"Error: {e}\")\n",
    "\n",
    "finally:\n",
    "    if mydb.is_connected():\n",
    "        cursor.close()\n",
    "        mydb.close()\n",
    "\n"
   ]
  },
  {
   "cell_type": "code",
   "execution_count": 14,
   "id": "fec0819e-9742-42a8-9992-2b427f75fe1a",
   "metadata": {},
   "outputs": [
    {
     "name": "stdout",
     "output_type": "stream",
     "text": [
      "('Chili con Carne', 'Tomatoes')\n",
      "('Chilaquiles', 'Pineapple')\n",
      "('Flautas', 'Pineapple')\n",
      "('Empanadas', 'Bok Choy')\n",
      "('Chiles en Nogada', 'Coriander')\n"
     ]
    }
   ],
   "source": [
    "try:\n",
    "    mydb = mysql.connector.connect(host=\"localhost\", user=\"root\", passwd=password, use_pure=True)\n",
    "    cursor = mydb.cursor()\n",
    "    cursor.execute(f\"USE {database_name}\")\n",
    "    \n",
    "    cursor.execute(\"SELECT * FROM Orders LIMIT 5\")\n",
    "    results = cursor.fetchall()\n",
    "    for row in results:\n",
    "        print(row)\n",
    "\n",
    "except mysql.connector.Error as e:\n",
    "    print(f\"Error: {e}\")\n",
    "\n",
    "finally:\n",
    "    if mydb.is_connected():\n",
    "        cursor.close()\n",
    "        mydb.close()"
   ]
  },
  {
   "cell_type": "markdown",
   "id": "f05f2f53-a7fc-41f4-929c-82a28f10c948",
   "metadata": {},
   "source": [
    "## 5 pts: Are there constraints on the table columns?\n",
    "\n",
    "Yes, below are the triggers for before and after insert, which makes sure:\n",
    "\n",
    "- There is sufficient ingredients to make the item\n",
    "- An additional ingredient is not already one of the main 5 items\n",
    "- After inserting an order, it decrements the quantity of the ingredient remaining"
   ]
  },
  {
   "cell_type": "markdown",
   "id": "e56c8dec-9cc2-4681-b1bb-a28f530a59e1",
   "metadata": {},
   "source": [
    "### Create Triggers"
   ]
  },
  {
   "cell_type": "code",
   "execution_count": 15,
   "id": "4cedf95b-3312-4463-a4b6-8b749ffa75d7",
   "metadata": {},
   "outputs": [],
   "source": [
    "# Check if Triggers Exist\n",
    "try:\n",
    "    mydb = mysql.connector.connect(host=\"localhost\", user=\"root\", passwd=password, use_pure=True)\n",
    "\n",
    "    cursor = mydb.cursor()\n",
    "\n",
    "    cursor.execute(f\"USE {database_name}\")\n",
    "\n",
    "    cursor.execute(\"SHOW TRIGGERS\")\n",
    "    \n",
    "    triggers = cursor.fetchall()\n",
    "    \n",
    "    for trigger in triggers:\n",
    "        print(trigger)\n",
    "        print(\"---------------------------\")\n",
    "    \n",
    "    cursor.close()\n",
    "\n",
    "except mysql.connector.Error as e:\n",
    "    print(f\"Error: {e}\")\n",
    "\n",
    "finally:\n",
    "    if mydb.is_connected():\n",
    "        cursor.close()\n",
    "        mydb.close()"
   ]
  },
  {
   "cell_type": "code",
   "execution_count": 16,
   "id": "c098e5ca-4d9c-405c-a189-3c3c3922451c",
   "metadata": {},
   "outputs": [],
   "source": [
    "# Working as intended\n",
    "\n",
    "try:\n",
    "\n",
    "    mydb = mysql.connector.connect(host=\"localhost\", user=\"root\", passwd=password, use_pure=True)\n",
    "\n",
    "    cursor = mydb.cursor()\n",
    "\n",
    "    cursor.execute(f\"USE {database_name}\")\n",
    "\n",
    "    # Trigger after insert to check if the additional ingredient is in the menu item's ingredients\n",
    "    cursor.execute('''\n",
    "    CREATE TRIGGER CheckAdditionalIngredientBeforeInsert\n",
    "    BEFORE INSERT ON Orders\n",
    "    FOR EACH ROW\n",
    "    BEGIN\n",
    "        DECLARE menuIngredients VARCHAR(225);\n",
    "        DECLARE errorMessage VARCHAR(255);\n",
    "        \n",
    "        -- Get the menu item's ingredients\n",
    "        SELECT CONCAT_WS(',', Ingredient1, Ingredient2, Ingredient3, Ingredient4, Ingredient5)\n",
    "        INTO menuIngredients\n",
    "        FROM Menu\n",
    "        WHERE Name = NEW.MenuItem;\n",
    "        \n",
    "        -- Check if the additional ingredient is in the menu item's ingredients\n",
    "        IF FIND_IN_SET(NEW.AdditionalIngredient, menuIngredients) > 0 THEN\n",
    "            \n",
    "            SIGNAL SQLSTATE '45000'\n",
    "            SET MESSAGE_TEXT = 'This ingredient is already in the menu item';\n",
    "        END IF;\n",
    "    END;\n",
    "    ''')\n",
    "\n",
    "    mydb.commit()\n",
    "\n",
    "except mysql.connector.Error as e:\n",
    "    print(f\"Error: {e}\")\n",
    "\n",
    "finally:\n",
    "    if mydb.is_connected():\n",
    "        cursor.close()\n",
    "        mydb.close()\n"
   ]
  },
  {
   "cell_type": "code",
   "execution_count": 17,
   "id": "9d9e3159-bec4-4201-bba8-351082262072",
   "metadata": {},
   "outputs": [],
   "source": [
    "# Working as intended\n",
    "try:\n",
    "\n",
    "    mydb = mysql.connector.connect(host=\"localhost\", user=\"root\", passwd=password, use_pure=True)\n",
    "\n",
    "    cursor = mydb.cursor()\n",
    "\n",
    "    cursor.execute(f\"USE {database_name}\")\n",
    "    # Trigger that before insert on orders, check if there's enough of the ingredient to make the food.\n",
    "        # Create the trigger\n",
    "    trigger_query = \"\"\"\n",
    "    CREATE TRIGGER CheckIngredientAvailabilityBeforeInsert\n",
    "    BEFORE INSERT ON Orders\n",
    "    FOR EACH ROW\n",
    "    BEGIN\n",
    "        DECLARE requiredQuantity INT;\n",
    "        \n",
    "        -- Get the required quantity of the ingredient for the menu item\n",
    "        SELECT Quantity\n",
    "        INTO requiredQuantity\n",
    "        FROM Ingredient\n",
    "        WHERE Name = NEW.MenuItem;\n",
    "        \n",
    "        -- Check if the ingredient quantity is available\n",
    "        IF requiredQuantity IS NULL OR requiredQuantity <= 0 THEN\n",
    "            SIGNAL SQLSTATE '45000'\n",
    "            SET MESSAGE_TEXT = 'Ingredient quantity is not available for the menu item.';\n",
    "        END IF;\n",
    "    END;\n",
    "    \"\"\"\n",
    "    \n",
    "    cursor.execute(trigger_query)\n",
    "    mydb.commit()\n",
    "\n",
    "except mysql.connector.Error as e:\n",
    "    print(f\"Error: {e}\")\n",
    "\n",
    "finally:\n",
    "    if mydb.is_connected():\n",
    "        cursor.close()\n",
    "        mydb.close()\n"
   ]
  },
  {
   "cell_type": "code",
   "execution_count": 18,
   "id": "47165b9b-cdd5-41ed-946d-60082e23de76",
   "metadata": {},
   "outputs": [
    {
     "name": "stdout",
     "output_type": "stream",
     "text": [
      "('CheckAdditionalIngredientBeforeInsert', 'INSERT', 'orders', \"BEGIN\\n        DECLARE menuIngredients VARCHAR(225);\\n        DECLARE errorMessage VARCHAR(255);\\n        \\n        -- Get the menu item's ingredients\\n        SELECT CONCAT_WS(',', Ingredient1, Ingredient2, Ingredient3, Ingredient4, Ingredient5)\\n        INTO menuIngredients\\n        FROM Menu\\n        WHERE Name = NEW.MenuItem;\\n        \\n        -- Check if the additional ingredient is in the menu item's ingredients\\n        IF FIND_IN_SET(NEW.AdditionalIngredient, menuIngredients) > 0 THEN\\n            \\n            SIGNAL SQLSTATE '45000'\\n            SET MESSAGE_TEXT = 'This ingredient is already in the menu item';\\n        END IF;\\n    END\", 'BEFORE', datetime.datetime(2023, 12, 17, 3, 42, 24, 450000), {'NO_ENGINE_SUBSTITUTION', 'STRICT_TRANS_TABLES', 'NO_ZERO_IN_DATE', 'ERROR_FOR_DIVISION_BY_ZERO', 'ONLY_FULL_GROUP_BY', 'NO_ZERO_DATE'}, 'root@localhost', 'utf8mb4', 'utf8mb4_general_ci', 'utf8mb4_0900_ai_ci')\n",
      "---------------------------\n",
      "('CheckIngredientAvailabilityBeforeInsert', 'INSERT', 'orders', \"BEGIN\\n        DECLARE requiredQuantity INT;\\n        \\n        -- Get the required quantity of the ingredient for the menu item\\n        SELECT Quantity\\n        INTO requiredQuantity\\n        FROM Ingredient\\n        WHERE Name = NEW.MenuItem;\\n        \\n        -- Check if the ingredient quantity is available\\n        IF requiredQuantity IS NULL OR requiredQuantity <= 0 THEN\\n            SIGNAL SQLSTATE '45000'\\n            SET MESSAGE_TEXT = 'Ingredient quantity is not available for the menu item.';\\n        END IF;\\n    END\", 'BEFORE', datetime.datetime(2023, 12, 17, 3, 42, 24, 500000), {'NO_ENGINE_SUBSTITUTION', 'STRICT_TRANS_TABLES', 'NO_ZERO_IN_DATE', 'ERROR_FOR_DIVISION_BY_ZERO', 'ONLY_FULL_GROUP_BY', 'NO_ZERO_DATE'}, 'root@localhost', 'utf8mb4', 'utf8mb4_general_ci', 'utf8mb4_0900_ai_ci')\n",
      "---------------------------\n"
     ]
    }
   ],
   "source": [
    "# Confirm triggers exist\n",
    "\n",
    "try:\n",
    "\n",
    "    mydb = mysql.connector.connect(host=\"localhost\", user=\"root\", passwd=password, use_pure=True)\n",
    "\n",
    "    cursor = mydb.cursor()\n",
    "\n",
    "    cursor.execute(f\"USE {database_name}\")\n",
    "    \n",
    "    cursor.execute(\"SHOW TRIGGERS\")\n",
    "\n",
    "    triggers = cursor.fetchall()\n",
    "\n",
    "    for trigger in triggers:\n",
    "        print(trigger)\n",
    "        print(\"---------------------------\")\n",
    "\n",
    "    cursor.close()\n",
    "\n",
    "except mysql.connector.Error as e:\n",
    "    print(f\"Error: {e}\")\n",
    "\n",
    "finally:\n",
    "    if mydb.is_connected():\n",
    "        cursor.close()\n",
    "        mydb.close()"
   ]
  },
  {
   "cell_type": "markdown",
   "id": "08f138f7-e866-4ee8-b666-b0d801eaf2e2",
   "metadata": {},
   "source": [
    "## 5 pts: Did the writeup/video show SQL statements for UPDATEs?\n",
    "\n",
    "Initially:"
   ]
  },
  {
   "cell_type": "code",
   "execution_count": 19,
   "id": "fc584398-35de-43fb-b44b-14dec5bf4ce7",
   "metadata": {},
   "outputs": [
    {
     "name": "stdout",
     "output_type": "stream",
     "text": [
      "('Barbacoa', 'Tofu', 'Lime', 'Ramen', 'Bell Peppers', 'Sesame Seeds')\n"
     ]
    }
   ],
   "source": [
    "try:\n",
    "    mydb = mysql.connector.connect(host=\"localhost\", user=\"root\", passwd=password, use_pure=True)\n",
    "    cursor = mydb.cursor()\n",
    "\n",
    "    cursor.execute(f\"USE {database_name}\")\n",
    "\n",
    "    cursor.execute(\"\"\"\n",
    "        SELECT * FROM MENU LIMIT 1\n",
    "    \"\"\")\n",
    "    results = cursor.fetchall()\n",
    "    for row in results:\n",
    "        print(row)\n",
    "\n",
    "    mydb.commit()\n",
    "\n",
    "except mysql.connector.Error as e:\n",
    "    print(f\"Error: {e}\")\n",
    "\n",
    "finally:\n",
    "\n",
    "    if mydb.is_connected():\n",
    "        cursor.close()\n",
    "        mydb.close()"
   ]
  },
  {
   "cell_type": "code",
   "execution_count": 20,
   "id": "d4bcc2be-15d3-4db4-a75d-44931fc04c9a",
   "metadata": {},
   "outputs": [
    {
     "name": "stdout",
     "output_type": "stream",
     "text": [
      "Update and insertion completed successfully.\n"
     ]
    }
   ],
   "source": [
    "try:\n",
    "    mydb = mysql.connector.connect(host=\"localhost\", user=\"root\", passwd=password, use_pure=True)\n",
    "    cursor = mydb.cursor()\n",
    "\n",
    "    cursor.execute(f\"USE {database_name}\")\n",
    "\n",
    "    cursor.execute(\"\"\"\n",
    "        UPDATE MENU\n",
    "        SET Ingredient1 = 'Tamarind'\n",
    "        WHERE NAME = 'Barbacoa'\n",
    "    \"\"\")\n",
    "\n",
    "    mydb.commit()\n",
    "\n",
    "    print(\"Update and insertion completed successfully.\")\n",
    "\n",
    "except mysql.connector.Error as e:\n",
    "    print(f\"Error: {e}\")\n",
    "\n",
    "finally:\n",
    "\n",
    "    if mydb.is_connected():\n",
    "        cursor.close()\n",
    "        mydb.close()"
   ]
  },
  {
   "cell_type": "code",
   "execution_count": 21,
   "id": "dd4b121b-2985-4900-875f-16cdae7f9aff",
   "metadata": {},
   "outputs": [
    {
     "name": "stdout",
     "output_type": "stream",
     "text": [
      "('Barbacoa', 'Tamarind', 'Lime', 'Ramen', 'Bell Peppers', 'Sesame Seeds')\n"
     ]
    }
   ],
   "source": [
    "# Confirm change: first ingredient of Barbacoa should now be Tamarind\n",
    "\n",
    "try:\n",
    "    mydb = mysql.connector.connect(host=\"localhost\", user=\"root\", passwd=password, use_pure=True)\n",
    "    cursor = mydb.cursor()\n",
    "\n",
    "    cursor.execute(f\"USE {database_name}\")\n",
    "\n",
    "    cursor.execute(\"\"\"\n",
    "        SELECT * FROM MENU LIMIT 1\n",
    "    \"\"\")\n",
    "    results = cursor.fetchall()\n",
    "    for row in results:\n",
    "        print(row)\n",
    "\n",
    "    mydb.commit()\n",
    "\n",
    "except mysql.connector.Error as e:\n",
    "    print(f\"Error: {e}\")\n",
    "\n",
    "finally:\n",
    "    if mydb.is_connected():\n",
    "        cursor.close()\n",
    "        mydb.close()"
   ]
  },
  {
   "cell_type": "markdown",
   "id": "433e9996-6f4d-4d5d-b679-52e6bab57a53",
   "metadata": {},
   "source": [
    "## 5 pts: Did the writeup/video show SQL statements for queries?"
   ]
  },
  {
   "cell_type": "code",
   "execution_count": 22,
   "id": "34ad5949-7f63-4319-9a86-4ea06ef412d9",
   "metadata": {},
   "outputs": [
    {
     "name": "stdout",
     "output_type": "stream",
     "text": [
      "Ingredient  Table\n",
      "('Avocado', 7, 519)\n",
      "('Beans', 16, 37)\n",
      "('Beef', 14, 116)\n",
      "('Bell Peppers', 8, 218)\n",
      "('Bok Choy', 4, 674)\n",
      "('Cabbage', 15, 296)\n",
      "('Cayenne Pepper', 5, 810)\n",
      "('Chicken', 7, 248)\n",
      "('Chili Powder', 9, 950)\n",
      "('Chilies', 10, 211)\n",
      "('Cilantro', 3, 70)\n",
      "('Coconut Milk', 17, 814)\n",
      "('Coriander', 5, 899)\n",
      "('Cumin', 5, 865)\n",
      "('Eggplant', 3, 960)\n",
      "\n",
      "Menu Table\n",
      "('Barbacoa', 'Tamarind', 'Lime', 'Ramen', 'Bell Peppers', 'Sesame Seeds')\n",
      "('Burritos', 'Szechuan Peppercorns', 'Rice', 'Salsa', 'Tortillas', 'Cabbage')\n",
      "('Carne Asada', 'Sambal Oelek', 'Chili Powder', 'Shrimp', 'Cayenne Pepper', 'Wasabi')\n",
      "('Carnitas', 'Sour Cream', 'Chilies', 'Bok Choy', 'Wasabi', 'Cabbage')\n",
      "('Ceviche', 'Chili Powder', 'Avocado', 'Cumin', 'Bell Peppers', 'Szechuan Peppercorns')\n",
      "('Chilaquiles', 'Sambal Oelek', 'Noodles', 'Szechuan Peppercorns', 'Bok Choy', 'Scallions')\n",
      "('Chile Rellenos', 'Beans', 'Coconut Milk', 'Thai Basil', 'Salsa', 'Sambal Oelek')\n",
      "('Chiles en Nogada', 'Tortillas', 'Kimchi', 'Fish Sauce', 'Salsa', 'Cilantro')\n",
      "('Chili con Carne', 'Cilantro', 'Thai Basil', 'Onions', 'Sesame Oil', 'Chilies')\n",
      "('Chimichangas', 'Shrimp', 'Wasabi', 'Eggplant', 'Hoisin Sauce', 'Coriander')\n",
      "('Churros', 'Lemongrass', 'Tomatoes', 'Thai Basil', 'Tofu', 'Wasabi')\n",
      "('Elote', 'Onions', 'Ramen', 'Tomatoes', 'Coriander', 'Avocado')\n",
      "('Empanadas', 'Sambal Oelek', 'Mushrooms', 'Kimchi', 'Soy Sauce', 'Lemongrass')\n",
      "('Enchiladas', 'Wasabi', 'Pineapple', 'Fish Sauce', 'Thai Basil', 'Hoisin Sauce')\n",
      "('Fajitas', 'Garlic', 'Kimchi', 'Cumin', 'Jalapenos', 'Sambal Oelek')\n",
      "\n",
      "Order Table\n",
      "('Chili con Carne', 'Tomatoes')\n",
      "('Chilaquiles', 'Pineapple')\n",
      "('Flautas', 'Pineapple')\n",
      "('Empanadas', 'Bok Choy')\n",
      "('Chiles en Nogada', 'Coriander')\n",
      "('Refried Beans', 'Kimchi')\n",
      "('Carne Asada', 'Cumin')\n",
      "('Fajitas', 'Avocado')\n",
      "('Refried Beans', 'Hoisin Sauce')\n",
      "('Tacos', 'Tortillas')\n",
      "('Enchiladas', 'Sesame Oil')\n",
      "('Pico de Gallo', 'Avocado')\n",
      "('Ceviche', 'Cilantro')\n",
      "('Ceviche', 'Cumin')\n",
      "('Taquitos', 'Hoisin Sauce')\n"
     ]
    }
   ],
   "source": [
    "# Confirm change: first ingredient of Barbacoa should now be Tamarind\n",
    "\n",
    "try:\n",
    "    mydb = mysql.connector.connect(host=\"localhost\", user=\"root\", passwd=password, use_pure=True)\n",
    "    cursor = mydb.cursor()\n",
    "\n",
    "    cursor.execute(f\"USE {database_name}\")\n",
    "\n",
    "    cursor.execute(\"\"\"\n",
    "        SELECT * FROM INGREDIENT LIMIT 15\n",
    "    \"\"\")\n",
    "    results = cursor.fetchall()\n",
    "    print('Ingredient  Table')\n",
    "    for row in results:\n",
    "        print(row)\n",
    "\n",
    "    cursor.execute(\"\"\"\n",
    "        SELECT * FROM MENU LIMIT 15\n",
    "    \"\"\")\n",
    "    results = cursor.fetchall()\n",
    "    print('\\nMenu Table')\n",
    "    for row in results:\n",
    "        print(row)\n",
    "\n",
    "    cursor.execute(\"\"\"\n",
    "        SELECT * FROM ORDERs LIMIT 15\n",
    "    \"\"\")\n",
    "    print('\\nOrder Table')\n",
    "    results = cursor.fetchall()\n",
    "    for row in results:\n",
    "        print(row)\n",
    "\n",
    "    mydb.commit()\n",
    "\n",
    "except mysql.connector.Error as e:\n",
    "    print(f\"Error: {e}\")\n",
    "\n",
    "finally:\n",
    "    if mydb.is_connected():\n",
    "        cursor.close()\n",
    "        mydb.close()"
   ]
  },
  {
   "cell_type": "markdown",
   "id": "0e3dbb12-6479-4e43-8ad2-59c86557a497",
   "metadata": {},
   "source": [
    "## 5 pts: Do the tables include Indexes ? \n",
    "          (Primary key counts as index if they are data and not just row counters)\n",
    "\n",
    "Yes, below is the code to create the ingredient_index and menu_index on the names of the ingredient and names of the menu item, which are the primary keys of those tables."
   ]
  },
  {
   "cell_type": "code",
   "execution_count": 23,
   "id": "6354c55a-e21f-4d8f-a755-a966eb393419",
   "metadata": {},
   "outputs": [],
   "source": [
    "try:\n",
    "    mydb = mysql.connector.connect(host=\"localhost\", user=\"root\", passwd=password, use_pure=True)\n",
    "    cursor = mydb.cursor()\n",
    "\n",
    "    cursor.execute(f\"USE {database_name}\")\n",
    "\n",
    "    # Ingredient name index\n",
    "    cursor.execute(\"\"\"\n",
    "        CREATE INDEX ingredient_index ON INGREDIENT(Name)\n",
    "    \"\"\")\n",
    "\n",
    "    # Menu Item Name index\n",
    "    cursor.execute(\"\"\"\n",
    "        CREATE INDEX menu_index ON MENU(Name)\n",
    "    \"\"\")\n",
    "\n",
    "    mydb.commit()\n",
    "    \n",
    "except mysql.connector.Error as e:\n",
    "    print(f\"Error: {e}\")\n",
    "\n",
    "finally:\n",
    "    # Close the cursor and database connection\n",
    "    if mydb.is_connected():\n",
    "        cursor.close()\n",
    "        mydb.close()"
   ]
  },
  {
   "cell_type": "markdown",
   "id": "e5bbd1a0-f032-467e-8056-d48db57bc4b5",
   "metadata": {},
   "source": [
    "## 10 pts: Did the writeup/video show the code and execution of the trigger(s)?"
   ]
  },
  {
   "cell_type": "code",
   "execution_count": 24,
   "id": "2a8f29de-1e98-4ea7-b6df-e58782191a7a",
   "metadata": {},
   "outputs": [
    {
     "name": "stdout",
     "output_type": "stream",
     "text": [
      "Error: 1644 (45000): This ingredient is already in the menu item\n"
     ]
    }
   ],
   "source": [
    "try:\n",
    "    mydb = mysql.connector.connect(host=\"localhost\", user=\"root\", passwd=password, use_pure=True)\n",
    "    cursor = mydb.cursor()\n",
    "\n",
    "    cursor.execute(f\"USE {database_name}\")\n",
    "\n",
    "    cursor.execute(\"\"\"\n",
    "        INSERT INTO ORDERS VALUES ('Barbacoa', 'Tamarind')\n",
    "    \"\"\")\n",
    "    results = cursor.fetchall()\n",
    "    for row in results:\n",
    "        print(row)\n",
    "\n",
    "    mydb.commit()\n",
    "\n",
    "except mysql.connector.Error as e:\n",
    "    print(f\"Error: {e}\")\n",
    "\n",
    "finally:\n",
    "    # Close the cursor and database connection\n",
    "    if mydb.is_connected():\n",
    "        cursor.close()\n",
    "        mydb.close()"
   ]
  },
  {
   "cell_type": "code",
   "execution_count": 25,
   "id": "bb8045e8-8977-4031-99b6-532c08f22865",
   "metadata": {},
   "outputs": [
    {
     "name": "stdout",
     "output_type": "stream",
     "text": [
      "('Tamarind', 7, 674)\n"
     ]
    }
   ],
   "source": [
    "try:\n",
    "    mydb = mysql.connector.connect(host=\"localhost\", user=\"root\", passwd=password, use_pure=True)\n",
    "    cursor = mydb.cursor()\n",
    "\n",
    "    cursor.execute(f\"USE {database_name}\")\n",
    "\n",
    "    cursor.execute(\"\"\"\n",
    "        SELECT * FROM INGREDIENT \n",
    "        WHERE NAME = 'Tamarind'\n",
    "    \"\"\")\n",
    "    results = cursor.fetchall()\n",
    "    for row in results:\n",
    "        print(row)\n",
    "\n",
    "    mydb.commit()\n",
    "\n",
    "except mysql.connector.Error as e:\n",
    "    print(f\"Error: {e}\")\n",
    "\n",
    "finally:\n",
    "    if mydb.is_connected():\n",
    "        cursor.close()\n",
    "        mydb.close()"
   ]
  },
  {
   "cell_type": "code",
   "execution_count": 26,
   "id": "3e2ad97d-31db-41fa-b2c9-c21978261fd8",
   "metadata": {},
   "outputs": [
    {
     "name": "stdout",
     "output_type": "stream",
     "text": [
      "Update and insertion completed successfully.\n"
     ]
    }
   ],
   "source": [
    "try:\n",
    "    mydb = mysql.connector.connect(host=\"localhost\", user=\"root\", passwd=password, use_pure=True)\n",
    "    cursor = mydb.cursor()\n",
    "\n",
    "    cursor.execute(f\"USE {database_name}\")\n",
    "\n",
    "    cursor.execute(\"\"\"\n",
    "        UPDATE INGREDIENT\n",
    "        SET Quantity = 0\n",
    "        WHERE NAME = 'Tamarind'\n",
    "    \"\"\")\n",
    "\n",
    "    mydb.commit()\n",
    "\n",
    "    print(\"Update and insertion completed successfully.\")\n",
    "\n",
    "except mysql.connector.Error as e:\n",
    "    print(f\"Error: {e}\")\n",
    "\n",
    "finally:\n",
    "    if mydb.is_connected():\n",
    "        cursor.close()\n",
    "        mydb.close()"
   ]
  },
  {
   "cell_type": "code",
   "execution_count": 27,
   "id": "c706862a-44d4-4aac-801d-2cd337ed9599",
   "metadata": {},
   "outputs": [
    {
     "name": "stdout",
     "output_type": "stream",
     "text": [
      "('Tamarind', 7, 0)\n"
     ]
    }
   ],
   "source": [
    "try:\n",
    "    mydb = mysql.connector.connect(host=\"localhost\", user=\"root\", passwd=password, use_pure=True)\n",
    "    cursor = mydb.cursor()\n",
    "\n",
    "    cursor.execute(f\"USE {database_name}\")\n",
    "\n",
    "    cursor.execute(\"\"\"\n",
    "        SELECT * FROM INGREDIENT\n",
    "        WHERE NAME = 'Tamarind'\n",
    "    \"\"\")\n",
    "    results = cursor.fetchall()\n",
    "    for row in results:\n",
    "        print(row)\n",
    "\n",
    "    mydb.commit()\n",
    "\n",
    "except mysql.connector.Error as e:\n",
    "    print(f\"Error: {e}\")\n",
    "\n",
    "finally:\n",
    "    if mydb.is_connected():\n",
    "        cursor.close()\n",
    "        mydb.close()"
   ]
  },
  {
   "cell_type": "code",
   "execution_count": 28,
   "id": "c83d407e-f2fb-43e2-8ad0-62f0197ef34b",
   "metadata": {},
   "outputs": [
    {
     "name": "stdout",
     "output_type": "stream",
     "text": [
      "Error: 1644 (45000): Ingredient quantity is not available for the menu item.\n"
     ]
    }
   ],
   "source": [
    "try:\n",
    "    mydb = mysql.connector.connect(host=\"localhost\", user=\"root\", passwd=password, use_pure=True)\n",
    "    cursor = mydb.cursor()\n",
    "\n",
    "    cursor.execute(f\"USE {database_name}\")\n",
    "\n",
    "    cursor.execute(\"\"\"\n",
    "        INSERT INTO ORDERS VALUES ('Barbacoa', 'Coconut Milk')\n",
    "    \"\"\")\n",
    "    results = cursor.fetchall()\n",
    "    for row in results:\n",
    "        print(row)\n",
    "\n",
    "    mydb.commit()\n",
    "\n",
    "except mysql.connector.Error as e:\n",
    "    print(f\"Error: {e}\")\n",
    "\n",
    "finally:\n",
    "    if mydb.is_connected():\n",
    "        cursor.close()\n",
    "        mydb.close()"
   ]
  },
  {
   "cell_type": "markdown",
   "id": "0d0568f8-9a35-4854-b706-9ad2f58681ec",
   "metadata": {},
   "source": [
    "## 5 pts: Did the writeup/video show the Join between at least 3 tables?"
   ]
  },
  {
   "cell_type": "code",
   "execution_count": 29,
   "id": "451dfaed-1053-4042-84b1-65c73c4f4fc2",
   "metadata": {},
   "outputs": [
    {
     "name": "stdout",
     "output_type": "stream",
     "text": [
      "MenuItem: Barbacoa\n",
      "Ingredient1: Tamarind Quantity1: 0\n",
      "Ingredient2: Lime Quantity2: 149\n",
      "Ingredient3: Ramen Quantity3: 733\n",
      "Ingredient4: Bell Peppers Quantity4: 218\n",
      "Ingredient5: Sesame Seeds Quantity5: 946\n",
      "AdditionalIngredient: Sesame Oil AdditionalQuantity: 95\n",
      "\n",
      "\n",
      "MenuItem: Barbacoa\n",
      "Ingredient1: Tamarind Quantity1: 0\n",
      "Ingredient2: Lime Quantity2: 149\n",
      "Ingredient3: Ramen Quantity3: 733\n",
      "Ingredient4: Bell Peppers Quantity4: 218\n",
      "Ingredient5: Sesame Seeds Quantity5: 946\n",
      "AdditionalIngredient: Jalapenos AdditionalQuantity: 247\n",
      "\n",
      "\n",
      "MenuItem: Barbacoa\n",
      "Ingredient1: Tamarind Quantity1: 0\n",
      "Ingredient2: Lime Quantity2: 149\n",
      "Ingredient3: Ramen Quantity3: 733\n",
      "Ingredient4: Bell Peppers Quantity4: 218\n",
      "Ingredient5: Sesame Seeds Quantity5: 946\n",
      "AdditionalIngredient: Cayenne Pepper AdditionalQuantity: 810\n",
      "\n",
      "\n",
      "MenuItem: Burritos\n",
      "Ingredient1: Szechuan Peppercorns Quantity1: 203\n",
      "Ingredient2: Rice Quantity2: 956\n",
      "Ingredient3: Salsa Quantity3: 120\n",
      "Ingredient4: Tortillas Quantity4: 722\n",
      "Ingredient5: Cabbage Quantity5: 296\n",
      "AdditionalIngredient: Cabbage AdditionalQuantity: 296\n",
      "\n",
      "\n",
      "MenuItem: Burritos\n",
      "Ingredient1: Szechuan Peppercorns Quantity1: 203\n",
      "Ingredient2: Rice Quantity2: 956\n",
      "Ingredient3: Salsa Quantity3: 120\n",
      "Ingredient4: Tortillas Quantity4: 722\n",
      "Ingredient5: Cabbage Quantity5: 296\n",
      "AdditionalIngredient: Cayenne Pepper AdditionalQuantity: 810\n",
      "\n",
      "\n"
     ]
    }
   ],
   "source": [
    "try:\n",
    "    mydb = mysql.connector.connect(host=\"localhost\", user=\"root\", passwd=password, use_pure=True)\n",
    "    cursor = mydb.cursor()\n",
    "\n",
    "    cursor.execute(f\"USE {database_name}\")\n",
    "\n",
    "    query = \"\"\"\n",
    "    SELECT\n",
    "        M.Name AS MenuItem,\n",
    "        M.Ingredient1 AS Ingredient1,\n",
    "        I1.Quantity AS Quantity1,\n",
    "        M.Ingredient2 AS Ingredient2,\n",
    "        I2.Quantity AS Quantity2,\n",
    "        M.Ingredient3 AS Ingredient3,\n",
    "        I3.Quantity AS Quantity3,\n",
    "        M.Ingredient4 AS Ingredient4,\n",
    "        I4.Quantity AS Quantity4,\n",
    "        M.Ingredient5 AS Ingredient5,\n",
    "        I5.Quantity AS Quantity5,\n",
    "        O.AdditionalIngredient AS AdditionalIngredient,\n",
    "        I6.Quantity AS AdditionalQuantity\n",
    "    FROM Menu M\n",
    "    LEFT JOIN Ingredient I1 ON M.Ingredient1 = I1.Name\n",
    "    LEFT JOIN Ingredient I2 ON M.Ingredient2 = I2.Name\n",
    "    LEFT JOIN Ingredient I3 ON M.Ingredient3 = I3.Name\n",
    "    LEFT JOIN Ingredient I4 ON M.Ingredient4 = I4.Name\n",
    "    LEFT JOIN Ingredient I5 ON M.Ingredient5 = I5.Name\n",
    "    LEFT JOIN Orders O ON M.Name = O.MenuItem\n",
    "    LEFT JOIN Ingredient I6 ON O.AdditionalIngredient = I6.Name\n",
    "    LIMIT 5\n",
    "    \"\"\"\n",
    "\n",
    "    cursor.execute(query)\n",
    "    \n",
    "    results = cursor.fetchall()\n",
    "    \n",
    "    for row in results:\n",
    "        print(\"MenuItem:\", row[0])\n",
    "        print(\"Ingredient1:\", row[1], \"Quantity1:\", row[2])\n",
    "        print(\"Ingredient2:\", row[3], \"Quantity2:\", row[4])\n",
    "        print(\"Ingredient3:\", row[5], \"Quantity3:\", row[6])\n",
    "        print(\"Ingredient4:\", row[7], \"Quantity4:\", row[8])\n",
    "        print(\"Ingredient5:\", row[9], \"Quantity5:\", row[10])\n",
    "        print(\"AdditionalIngredient:\", row[11], \"AdditionalQuantity:\", row[12])\n",
    "        print(\"\\n\")\n",
    "\n",
    "    mydb.commit()\n",
    "\n",
    "except mysql.connector.Error as e:\n",
    "    print(f\"Error: {e}\")\n",
    "\n",
    "finally:\n",
    "    if mydb.is_connected():\n",
    "        cursor.close()\n",
    "        mydb.close()\n",
    "\n"
   ]
  },
  {
   "cell_type": "markdown",
   "id": "e64f804f-1b36-4952-9856-75d0e2621f25",
   "metadata": {},
   "source": [
    "## 5 pts: Did the writeup/video show grouping of the data on the Join between at least 3 tables?"
   ]
  },
  {
   "cell_type": "code",
   "execution_count": 30,
   "id": "c8d0d575-c410-486d-a8c4-8991e78f1d89",
   "metadata": {},
   "outputs": [
    {
     "name": "stdout",
     "output_type": "stream",
     "text": [
      "MenuItem: Chile Rellenos\n",
      "Ingredients: Beans\n",
      "TotalQuantity: 37\n",
      "AdditionalIngredient: Tofu AdditionalQuantity: 963\n",
      "\n",
      "\n",
      "MenuItem: Churros\n",
      "Ingredients: Lemongrass\n",
      "TotalQuantity: 839\n",
      "AdditionalIngredient: Tofu AdditionalQuantity: 963\n",
      "\n",
      "\n",
      "MenuItem: Salsa\n",
      "Ingredients: Fish Sauce\n",
      "TotalQuantity: 513\n",
      "AdditionalIngredient: Tofu AdditionalQuantity: 963\n",
      "\n",
      "\n",
      "MenuItem: Guacamole\n",
      "Ingredients: Beans\n",
      "TotalQuantity: 37\n",
      "AdditionalIngredient: Eggplant AdditionalQuantity: 960\n",
      "\n",
      "\n",
      "MenuItem: Chimichangas\n",
      "Ingredients: Shrimp\n",
      "TotalQuantity: 295\n",
      "AdditionalIngredient: Eggplant AdditionalQuantity: 960\n",
      "\n",
      "\n"
     ]
    }
   ],
   "source": [
    "try:\n",
    "    mydb = mysql.connector.connect(host=\"localhost\", user=\"root\", passwd=password, use_pure=True)\n",
    "    cursor = mydb.cursor()\n",
    "\n",
    "    cursor.execute(f\"USE {database_name}\")\n",
    "\n",
    "    query = \"\"\"\n",
    "    SELECT\n",
    "        M.Name AS MenuItem,\n",
    "        GROUP_CONCAT(I1.Name) AS Ingredients,\n",
    "        SUM(I1.Quantity) AS TotalQuantity,\n",
    "        O.AdditionalIngredient AS AdditionalIngredient,\n",
    "        I2.Quantity AS AdditionalQuantity\n",
    "    FROM Menu M\n",
    "    LEFT JOIN Ingredient I1 ON M.Ingredient1 = I1.Name\n",
    "    LEFT JOIN Orders O ON M.Name = O.MenuItem\n",
    "    LEFT JOIN Ingredient I2 ON O.AdditionalIngredient = I2.Name\n",
    "    GROUP BY M.Name, O.AdditionalIngredient\n",
    "    ORDER BY AdditionalQuantity DESC\n",
    "    LIMIT 5\n",
    "    \"\"\"\n",
    "\n",
    "    cursor.execute(query)\n",
    "    \n",
    "    results = cursor.fetchall()\n",
    "    \n",
    "    for row in results:\n",
    "        print(\"MenuItem:\", row[0])\n",
    "        print(\"Ingredients:\", row[1])\n",
    "        print(\"TotalQuantity:\", row[2])\n",
    "        print(\"AdditionalIngredient:\", row[3], \"AdditionalQuantity:\", row[4])\n",
    "        print(\"\\n\")\n",
    "\n",
    "    mydb.commit()\n",
    "\n",
    "except mysql.connector.Error as e:\n",
    "    print(f\"Error: {e}\")\n",
    "\n",
    "finally:\n",
    "    if mydb.is_connected():\n",
    "        cursor.close()\n",
    "        mydb.close()\n",
    "\n"
   ]
  },
  {
   "cell_type": "markdown",
   "id": "4ba53522-3215-463a-9bde-b5eacfc49d29",
   "metadata": {},
   "source": [
    "## 5 pts: Did the writeup/video show aggregation on the Join between at least 3 tables?"
   ]
  },
  {
   "cell_type": "code",
   "execution_count": 31,
   "id": "9cea7da5-f510-434a-ad02-86379016fd7d",
   "metadata": {},
   "outputs": [
    {
     "name": "stdout",
     "output_type": "stream",
     "text": [
      "MenuItem: Churros\n",
      "TotalIngredientQuantity: 10907\n",
      "TotalAdditionalIngredientQuantity: 5904\n",
      "\n",
      "\n",
      "MenuItem: Pico de Gallo\n",
      "TotalIngredientQuantity: 7568\n",
      "TotalAdditionalIngredientQuantity: 2844\n",
      "\n",
      "\n",
      "MenuItem: Carne Asada\n",
      "TotalIngredientQuantity: 6400\n",
      "TotalAdditionalIngredientQuantity: 2578\n",
      "\n",
      "\n",
      "MenuItem: Fajitas\n",
      "TotalIngredientQuantity: 5768\n",
      "TotalAdditionalIngredientQuantity: 3962\n",
      "\n",
      "\n",
      "MenuItem: Ceviche\n",
      "TotalIngredientQuantity: 5700\n",
      "TotalAdditionalIngredientQuantity: 2351\n",
      "\n",
      "\n"
     ]
    }
   ],
   "source": [
    "try:\n",
    "    mydb = mysql.connector.connect(host=\"localhost\", user=\"root\", passwd=password, use_pure=True)\n",
    "    cursor = mydb.cursor()\n",
    "\n",
    "    cursor.execute(f\"USE {database_name}\")\n",
    "\n",
    "    query = \"\"\"\n",
    "    SELECT\n",
    "        M.Name AS MenuItem,\n",
    "        SUM(I1.Quantity) AS TotalIngredientQuantity,\n",
    "        SUM(I2.Quantity) AS TotalAdditionalIngredientQuantity\n",
    "    FROM Menu M\n",
    "    LEFT JOIN Ingredient I1 ON M.Ingredient1 = I1.Name\n",
    "    LEFT JOIN Orders O ON M.Name = O.MenuItem\n",
    "    LEFT JOIN Ingredient I2 ON O.AdditionalIngredient = I2.Name\n",
    "    GROUP BY M.Name\n",
    "    ORDER BY TotalIngredientQuantity DESC\n",
    "    LIMIT 5\n",
    "    \"\"\"\n",
    "\n",
    "    cursor.execute(query)\n",
    "\n",
    "    results = cursor.fetchall()\n",
    "\n",
    "    for row in results:\n",
    "        print(\"MenuItem:\", row[0])\n",
    "        print(\"TotalIngredientQuantity:\", row[1])\n",
    "        print(\"TotalAdditionalIngredientQuantity:\", row[2])\n",
    "        print(\"\\n\")\n",
    "\n",
    "    mydb.commit()\n",
    "\n",
    "except mysql.connector.Error as e:\n",
    "    print(f\"Error: {e}\")\n",
    "\n",
    "finally:\n",
    "    if mydb.is_connected():\n",
    "        cursor.close()\n",
    "        mydb.close()\n",
    "\n"
   ]
  },
  {
   "cell_type": "markdown",
   "id": "cd009f49-d283-496e-ae79-162c289758f3",
   "metadata": {},
   "source": [
    "## 5 pts: Did the writeup/video show the deletion of items that have foreign keys?"
   ]
  },
  {
   "cell_type": "code",
   "execution_count": 32,
   "id": "64b3594a-942e-44b9-9c9e-5ca4812712d2",
   "metadata": {},
   "outputs": [
    {
     "name": "stdout",
     "output_type": "stream",
     "text": [
      "('Barbacoa', 'Tamarind', 'Lime', 'Ramen', 'Bell Peppers', 'Sesame Seeds')\n"
     ]
    }
   ],
   "source": [
    "try:\n",
    "    mydb = mysql.connector.connect(host=\"localhost\", user=\"root\", passwd=password, use_pure=True)\n",
    "    cursor = mydb.cursor()\n",
    "\n",
    "    cursor.execute(f\"USE {database_name}\")\n",
    "\n",
    "    query = \"\"\"\n",
    "    SELECT * FROM MENU\n",
    "    WHERE Ingredient1 = 'Tamarind'\n",
    "    \"\"\"\n",
    "    \n",
    "    cursor.execute(query)\n",
    "\n",
    "    results = cursor.fetchall()\n",
    "\n",
    "    for row in results:\n",
    "        print(row)\n",
    "\n",
    "    mydb.commit()\n",
    "\n",
    "except mysql.connector.Error as e:\n",
    "    print(f\"Error: {e}\")\n",
    "\n",
    "finally:\n",
    "    if mydb.is_connected():\n",
    "        cursor.close()\n",
    "        mydb.close()\n",
    "\n"
   ]
  },
  {
   "cell_type": "code",
   "execution_count": 33,
   "id": "ac3d25da-59b5-4a71-8776-b44aa4e124a0",
   "metadata": {},
   "outputs": [],
   "source": [
    "try:\n",
    "    mydb = mysql.connector.connect(host=\"localhost\", user=\"root\", passwd=password, use_pure=True)\n",
    "    cursor = mydb.cursor()\n",
    "\n",
    "    cursor.execute(f\"USE {database_name}\")\n",
    "\n",
    "    query = \"\"\"\n",
    "    DELETE FROM INGREDIENT WHERE NAME = 'Tamarind'\n",
    "    \"\"\"\n",
    "\n",
    "    cursor.execute(query)\n",
    "    \n",
    "    mydb.commit()\n",
    "\n",
    "except mysql.connector.Error as e:\n",
    "    print(f\"Error: {e}\")\n",
    "\n",
    "finally:\n",
    "    if mydb.is_connected():\n",
    "        cursor.close()\n",
    "        mydb.close()\n",
    "\n"
   ]
  },
  {
   "cell_type": "code",
   "execution_count": 34,
   "id": "021ec930-035a-445d-8064-e506a8635437",
   "metadata": {},
   "outputs": [],
   "source": [
    "# Confirm any menu item that has Tamardind is deleted\n",
    "try:\n",
    "    mydb = mysql.connector.connect(host=\"localhost\", user=\"root\", passwd=password, use_pure=True)\n",
    "    cursor = mydb.cursor()\n",
    "\n",
    "    cursor.execute(f\"USE {database_name}\")\n",
    "\n",
    "    query = \"\"\"\n",
    "    SELECT * FROM MENU\n",
    "    WHERE Ingredient1 = 'Tamarind'\n",
    "    \"\"\"\n",
    "\n",
    "    cursor.execute(query)\n",
    "    \n",
    "    results = cursor.fetchall()\n",
    "\n",
    "    for row in results:\n",
    "        print(row)\n",
    "\n",
    "    mydb.commit()\n",
    "\n",
    "except mysql.connector.Error as e:\n",
    "    print(f\"Error: {e}\")\n",
    "\n",
    "finally:\n",
    "\n",
    "    if mydb.is_connected():\n",
    "        cursor.close()\n",
    "        mydb.close()\n"
   ]
  },
  {
   "cell_type": "markdown",
   "id": "715faf78-81f5-4b58-b9f7-4c4cbada89f4",
   "metadata": {},
   "source": [
    "## Conclusion\n",
    "\n",
    "This is the end of my project. The queries herein allow a restaurant owner to make informed decisions about the most popular ingredients based on orders and menu item ingredients so they can make informed decisions about how they should manage their inventory to keep stock available to make food for customers."
   ]
  },
  {
   "cell_type": "code",
   "execution_count": null,
   "id": "6417e6e6-04aa-4b01-a6e5-d3343f8b3d43",
   "metadata": {},
   "outputs": [],
   "source": []
  }
 ],
 "metadata": {
  "kernelspec": {
   "display_name": "Python 3 (ipykernel)",
   "language": "python",
   "name": "python3"
  },
  "language_info": {
   "codemirror_mode": {
    "name": "ipython",
    "version": 3
   },
   "file_extension": ".py",
   "mimetype": "text/x-python",
   "name": "python",
   "nbconvert_exporter": "python",
   "pygments_lexer": "ipython3",
   "version": "3.10.7"
  }
 },
 "nbformat": 4,
 "nbformat_minor": 5
}
